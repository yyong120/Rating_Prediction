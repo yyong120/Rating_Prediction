{
 "cells": [
  {
   "cell_type": "code",
   "execution_count": 56,
   "metadata": {},
   "outputs": [],
   "source": [
    "import pandas as pd\n",
    "import numpy as np\n",
    "import torch\n",
    "import torch.nn as nn\n",
    "from matplotlib import pyplot as plt\n",
    "from collections import defaultdict"
   ]
  },
  {
   "cell_type": "code",
   "execution_count": 2,
   "metadata": {},
   "outputs": [],
   "source": [
    "file_name = 'df_modcloth.csv'\n",
    "df = pd.read_csv(file_name, sep=',')"
   ]
  },
  {
   "cell_type": "code",
   "execution_count": 3,
   "metadata": {},
   "outputs": [
    {
     "data": {
      "text/html": [
       "<div>\n",
       "<style scoped>\n",
       "    .dataframe tbody tr th:only-of-type {\n",
       "        vertical-align: middle;\n",
       "    }\n",
       "\n",
       "    .dataframe tbody tr th {\n",
       "        vertical-align: top;\n",
       "    }\n",
       "\n",
       "    .dataframe thead th {\n",
       "        text-align: right;\n",
       "    }\n",
       "</style>\n",
       "<table border=\"1\" class=\"dataframe\">\n",
       "  <thead>\n",
       "    <tr style=\"text-align: right;\">\n",
       "      <th></th>\n",
       "      <th>item_id</th>\n",
       "      <th>user_id</th>\n",
       "      <th>rating</th>\n",
       "      <th>timestamp</th>\n",
       "      <th>size</th>\n",
       "      <th>fit</th>\n",
       "      <th>user_attr</th>\n",
       "      <th>model_attr</th>\n",
       "      <th>category</th>\n",
       "      <th>brand</th>\n",
       "      <th>year</th>\n",
       "      <th>split</th>\n",
       "    </tr>\n",
       "  </thead>\n",
       "  <tbody>\n",
       "    <tr>\n",
       "      <th>0</th>\n",
       "      <td>7443</td>\n",
       "      <td>Alex</td>\n",
       "      <td>4</td>\n",
       "      <td>2010-01-21 08:00:00+00:00</td>\n",
       "      <td>NaN</td>\n",
       "      <td>NaN</td>\n",
       "      <td>Small</td>\n",
       "      <td>Small</td>\n",
       "      <td>Dresses</td>\n",
       "      <td>NaN</td>\n",
       "      <td>2012</td>\n",
       "      <td>0</td>\n",
       "    </tr>\n",
       "    <tr>\n",
       "      <th>1</th>\n",
       "      <td>7443</td>\n",
       "      <td>carolyn.agan</td>\n",
       "      <td>3</td>\n",
       "      <td>2010-01-27 08:00:00+00:00</td>\n",
       "      <td>NaN</td>\n",
       "      <td>NaN</td>\n",
       "      <td>NaN</td>\n",
       "      <td>Small</td>\n",
       "      <td>Dresses</td>\n",
       "      <td>NaN</td>\n",
       "      <td>2012</td>\n",
       "      <td>0</td>\n",
       "    </tr>\n",
       "    <tr>\n",
       "      <th>2</th>\n",
       "      <td>7443</td>\n",
       "      <td>Robyn</td>\n",
       "      <td>4</td>\n",
       "      <td>2010-01-29 08:00:00+00:00</td>\n",
       "      <td>NaN</td>\n",
       "      <td>NaN</td>\n",
       "      <td>Small</td>\n",
       "      <td>Small</td>\n",
       "      <td>Dresses</td>\n",
       "      <td>NaN</td>\n",
       "      <td>2012</td>\n",
       "      <td>0</td>\n",
       "    </tr>\n",
       "    <tr>\n",
       "      <th>3</th>\n",
       "      <td>7443</td>\n",
       "      <td>De</td>\n",
       "      <td>4</td>\n",
       "      <td>2010-02-13 08:00:00+00:00</td>\n",
       "      <td>NaN</td>\n",
       "      <td>NaN</td>\n",
       "      <td>NaN</td>\n",
       "      <td>Small</td>\n",
       "      <td>Dresses</td>\n",
       "      <td>NaN</td>\n",
       "      <td>2012</td>\n",
       "      <td>0</td>\n",
       "    </tr>\n",
       "    <tr>\n",
       "      <th>4</th>\n",
       "      <td>7443</td>\n",
       "      <td>tasha</td>\n",
       "      <td>4</td>\n",
       "      <td>2010-02-18 08:00:00+00:00</td>\n",
       "      <td>NaN</td>\n",
       "      <td>NaN</td>\n",
       "      <td>Small</td>\n",
       "      <td>Small</td>\n",
       "      <td>Dresses</td>\n",
       "      <td>NaN</td>\n",
       "      <td>2012</td>\n",
       "      <td>0</td>\n",
       "    </tr>\n",
       "  </tbody>\n",
       "</table>\n",
       "</div>"
      ],
      "text/plain": [
       "   item_id       user_id  rating                  timestamp  size  fit  \\\n",
       "0     7443          Alex       4  2010-01-21 08:00:00+00:00   NaN  NaN   \n",
       "1     7443  carolyn.agan       3  2010-01-27 08:00:00+00:00   NaN  NaN   \n",
       "2     7443         Robyn       4  2010-01-29 08:00:00+00:00   NaN  NaN   \n",
       "3     7443            De       4  2010-02-13 08:00:00+00:00   NaN  NaN   \n",
       "4     7443         tasha       4  2010-02-18 08:00:00+00:00   NaN  NaN   \n",
       "\n",
       "  user_attr model_attr category brand  year  split  \n",
       "0     Small      Small  Dresses   NaN  2012      0  \n",
       "1       NaN      Small  Dresses   NaN  2012      0  \n",
       "2     Small      Small  Dresses   NaN  2012      0  \n",
       "3       NaN      Small  Dresses   NaN  2012      0  \n",
       "4     Small      Small  Dresses   NaN  2012      0  "
      ]
     },
     "execution_count": 3,
     "metadata": {},
     "output_type": "execute_result"
    }
   ],
   "source": [
    "df.head()"
   ]
  },
  {
   "cell_type": "code",
   "execution_count": 5,
   "metadata": {},
   "outputs": [
    {
     "data": {
      "text/plain": [
       "(99893, 12)"
      ]
     },
     "execution_count": 5,
     "metadata": {},
     "output_type": "execute_result"
    }
   ],
   "source": [
    "df.shape"
   ]
  },
  {
   "cell_type": "code",
   "execution_count": 18,
   "metadata": {},
   "outputs": [
    {
     "name": "stdout",
     "output_type": "stream",
     "text": [
      "{'item_id': 7443, 'user_id': 'Alex', 'rating': 4, 'timestamp': '2010-01-21 08:00:00+00:00', 'size': nan, 'fit': nan, 'user_attr': 'Small', 'model_attr': 'Small', 'category': 'Dresses', 'brand': nan, 'year': 2012, 'split': 0}\n"
     ]
    }
   ],
   "source": [
    "# print the first row\n",
    "row = df.iloc[0]\n",
    "print(f\"{row.to_dict()}\")"
   ]
  },
  {
   "cell_type": "code",
   "execution_count": 24,
   "metadata": {},
   "outputs": [],
   "source": [
    "# check possible values for different fields\n",
    "items = df['item_id'].unique().tolist()\n",
    "users = df['user_id'].unique().tolist()\n",
    "ratings = df['rating'].unique().tolist()\n",
    "sizes = df['size'].unique().tolist()\n",
    "fits = df['fit'].unique().tolist()\n",
    "user_attrs = df['user_attr'].unique().tolist()\n",
    "model_attrs = df['model_attr'].unique().tolist()\n",
    "categories = df['category'].unique().tolist()\n",
    "brands = df['brand'].unique().tolist()\n",
    "years = df['year'].unique().tolist()\n",
    "splits = df['split'].unique().tolist()"
   ]
  },
  {
   "cell_type": "code",
   "execution_count": 28,
   "metadata": {},
   "outputs": [
    {
     "name": "stdout",
     "output_type": "stream",
     "text": [
      "number of items: 1020\n",
      "number of user: 44784\n",
      "number of brands: 32\n",
      "brands: [nan, 'ModCloth', 'Retrolicious', 'Steve Madden', 'Ryu', 'Chi Chi London', 'Out of Print', 'Kin Ship', 'Jack by BB Dakota', 'Pink Martini', 'Miss Candyfloss', 'Emily and Fin', 'Daisey Natives', 'Hell Bunny', 'Banned', 'Sugarhill Boutique', 'Wrangler', 'Wendy Bird', 'Pepaloves', 'Collectif', 'Compania Fantastica', 'Closet London', 'Eliza J', 'BB Dakota', \"Alice's Pig\", 'Louche', \"Effie's Heart\", 'Miss Patina', 'Mata Traders', \"Rolla's\", 'Yumi', 'Blue Platypus']\n",
      "ratings: [4, 3, 5, 2, 1]\n",
      "sizes: [nan, 1.0, 2.0, 3.0, 7.0, 4.0, 6.0, 5.0, 8.0, 0.0]\n",
      "fits: [nan, 'Just right', 'Slightly small', 'Very small', 'Slightly large', 'Very large']\n",
      "user_attrs: ['Small', nan, 'Large']\n",
      "model_attrs: ['Small', 'Small&Large']\n",
      "categories: ['Dresses', 'Outerwear', 'Bottoms', 'Tops']\n",
      "years: [2012, 2010, 2011, 2013, 2014, 2016, 2015, 2018, 2017, 2019]\n",
      "splits: [0, 2, 1]\n"
     ]
    }
   ],
   "source": [
    "print(f\"number of items: {len(items)}\")\n",
    "print(f\"number of user: {len(users)}\")\n",
    "print(f\"number of brands: {len(brands)}\")\n",
    "print(f\"brands: {brands}\")\n",
    "print(f\"ratings: {ratings}\")\n",
    "print(f\"sizes: {sizes}\")\n",
    "print(f\"fits: {fits}\")\n",
    "print(f\"user_attrs: {user_attrs}\")\n",
    "print(f\"model_attrs: {model_attrs}\")\n",
    "print(f\"categories: {categories}\")\n",
    "print(f\"years: {years}\")\n",
    "print(f\"splits: {splits}\")"
   ]
  },
  {
   "cell_type": "code",
   "execution_count": null,
   "metadata": {},
   "outputs": [
    {
     "name": "stdout",
     "output_type": "stream",
     "text": [
      "total number of data: 99893\n",
      "number of data which doesn't have brand info: 73980\n"
     ]
    }
   ],
   "source": [
    "# check how many data don't have brand info\n",
    "brand_list = df['brand'].tolist()\n",
    "print(f\"total number of data: {len(brand_list)}\")\n",
    "print(f\"number of data which doesn't have brand info: {len([brand for brand in brand_list if brand is np.nan])}\")"
   ]
  },
  {
   "cell_type": "code",
   "execution_count": 54,
   "metadata": {},
   "outputs": [
    {
     "name": "stdout",
     "output_type": "stream",
     "text": [
      "total number of data: 99893\n",
      "number of nan user_id: 1\n",
      "total number of data: 99893\n",
      "number of nan item_id: 0\n"
     ]
    }
   ],
   "source": [
    "# check how many user_id is nan\n",
    "user_list = df['user_id'].to_list()\n",
    "print(f\"total number of data: {len(user_list)}\")\n",
    "print(f\"number of nan user_id: {len([user for user in user_list if user is np.nan])}\")\n",
    "\n",
    "# check how many item_id is nan\n",
    "item_list = df['item_id'].to_list()\n",
    "print(f\"total number of data: {len(item_list)}\")\n",
    "print(f\"number of nan item_id: {len([item for item in item_list if item is np.nan])}\")\n"
   ]
  },
  {
   "cell_type": "code",
   "execution_count": null,
   "metadata": {},
   "outputs": [
    {
     "name": "stdout",
     "output_type": "stream",
     "text": [
      "44783\n"
     ]
    }
   ],
   "source": [
    "fit_to_idx = {'Just right': 1, 'Slightly small': 2, 'Very small': 3, 'Slightly large': 4, 'Very large': 5}\n",
    "user_attr_to_idx = {'Small': 1, 'Large': 2}\n",
    "model_attr_to_idx = {'Small': 1, 'Small&Large': 2}\n",
    "category_to_idx = {'Dresses': 1, 'Outerwear': 2, 'Bottoms': 3, 'Tops': 4}\n",
    "\n",
    "# map brand name to idx, idx for nan is 0\n",
    "brand_to_idx = {}\n",
    "idx = 1\n",
    "for brand in brands:\n",
    "    if brand is not np.nan:\n",
    "        brand_to_idx[brand] = idx\n",
    "        idx += 1\n",
    "\n",
    "# map user_id to idx, starting from 1\n",
    "user_id_to_idx = {}\n",
    "idx = 1\n",
    "for user in users:\n",
    "    if user is not np.nan:\n",
    "        user_id_to_idx[user] = idx\n",
    "        idx += 1\n",
    "\n",
    "# map item_id to idx, starting from 1\n",
    "item_id_to_idx = {}\n",
    "idx = 1\n",
    "for item in items:\n",
    "    if item is not np.nan:\n",
    "        item_id_to_idx[item] = idx\n",
    "        idx += 1\n",
    "\n",
    "# group the data by user\n",
    "# group the data by item\n",
    "data_per_user = defaultdict(list)\n",
    "data_per_item = defaultdict(list)\n",
    "\n",
    "# sort users by the number of items they purchased,\n",
    "# put the last 100 users' data in test set to ensure there are unseen users in test set.\n",
    "\n",
    "# for each remaining user, 20% data in test set, 10% data in validation set, 70% data in training set\n",
    "\n",
    "\n"
   ]
  }
 ],
 "metadata": {
  "kernelspec": {
   "display_name": "gnn",
   "language": "python",
   "name": "python3"
  },
  "language_info": {
   "codemirror_mode": {
    "name": "ipython",
    "version": 3
   },
   "file_extension": ".py",
   "mimetype": "text/x-python",
   "name": "python",
   "nbconvert_exporter": "python",
   "pygments_lexer": "ipython3",
   "version": "3.9.18"
  }
 },
 "nbformat": 4,
 "nbformat_minor": 2
}
